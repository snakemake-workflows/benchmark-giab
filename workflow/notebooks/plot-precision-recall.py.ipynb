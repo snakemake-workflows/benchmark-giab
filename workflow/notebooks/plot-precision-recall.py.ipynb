{
 "cells": [
  {
   "cell_type": "code",
   "execution_count": 40,
   "id": "a292df71",
   "metadata": {},
   "outputs": [],
   "source": [
    "from itertools import product\n",
    "import sys\n",
    "\n",
    "import pandas as pd\n",
    "import altair as alt\n",
    "from altair import datum\n",
    "\n",
    "sys.stderr = open(snakemake.log[0], \"w\")\n",
    "\n",
    "\n",
    "report = pd.read_csv(snakemake.input[0], sep=\"\\t\")\n",
    "chart = None\n",
    "\n",
    "report[\"coverage\"] = report[\"coverage\"].apply(lambda cov: snakemake.params.cov_labels[cov])\n",
    "report_final = report[[\"coverage\", \"vartype\", \"correct genotype\", \"precision\", \"recall\"]].set_index([\"coverage\", \"vartype\", \"correct genotype\"]).stack().reset_index()\n",
    "report_final.columns = [\"coverage\", \"vartype\", \"correct genotype\", \"metric\", \"value\"]\n",
    "\n",
    "coverages = report[\"coverage\"].unique()\n",
    "vartypes = report[\"vartype\"].unique()\n",
    "\n",
    "report_final.set_index([\"coverage\", \"vartype\", \"metric\", \"correct genotype\"], inplace=True)\n",
    "report_final[\"numbers\"] = None\n",
    "\n",
    "for cov, vartype in product(coverages, vartypes):\n",
    "    report_ = report.loc[(report[\"coverage\"] == cov) & (report[\"vartype\"] == vartype) & (report[\"correct genotype\"] == \"no\")].iloc[0]\n",
    "    report_final.loc[(cov, vartype, \"precision\"), \"numbers\"] = f\"{report_.at['tp_query']}/{report_.at['tp_query'] + report_.at['fp']}\"\n",
    "    report_final.loc[(cov, vartype, \"recall\"), \"numbers\"] = f\"{report_.at['tp_truth']}/{report_.at['tp_truth'] + report_.at['fn']}\"\n",
    "report_final.reset_index(inplace=True)\n"
   ]
  },
  {
   "cell_type": "code",
   "execution_count": 41,
   "id": "14c6e90b",
   "metadata": {},
   "outputs": [],
   "source": [
    "cov_sort = [snakemake.params.cov_labels[cov] for cov in [\"high\", \"medium\", \"low\"]]\n",
    "\n",
    "def plot(correct_genotype):\n",
    "    chart = alt.Chart().mark_bar().encode(\n",
    "        alt.X(\"value\", title=None),\n",
    "        alt.Y(\"coverage\", sort=cov_sort),\n",
    "        color=alt.Color(\"correct genotype\", type=\"ordinal\", sort=\"descending\"),\n",
    "    ).transform_filter(\n",
    "        datum[\"correct genotype\"] == correct_genotype\n",
    "    )\n",
    "\n",
    "    return chart\n",
    "\n",
    "def plot_numbers():\n",
    "    return alt.Chart().mark_text(\n",
    "            color=\"black\",\n",
    "            align=\"left\",\n",
    "            baseline=\"middle\",\n",
    "            dx=4,\n",
    "        ).encode(\n",
    "            alt.X(\"value\", title=None),\n",
    "            alt.Y(\"coverage\", sort=cov_sort),\n",
    "            text=\"numbers\"\n",
    "        ).transform_filter(\n",
    "            datum[\"correct genotype\"] == \"no\"\n",
    "        )\n",
    "\n",
    "chart = alt.layer(plot(\"no\"), plot(\"yes\"), plot_numbers(), data=report_final).facet(\n",
    "    row=alt.Row(\"metric\", title=None),\n",
    "    column=alt.Column(\"vartype\", title=None, sort=[\"snvs\", \"indels\"]),\n",
    ")"
   ]
  },
  {
   "cell_type": "code",
   "execution_count": 43,
   "id": "74d8b3b2",
   "metadata": {},
   "outputs": [],
   "source": [
    "chart.save(snakemake.output[0])"
   ]
  }
 ],
 "metadata": {
  "kernelspec": {
   "display_name": "Python 3 (ipykernel)",
   "language": "python",
   "name": "python3"
  },
  "language_info": {
   "codemirror_mode": {
    "name": "ipython",
    "version": 3
   },
   "file_extension": ".py",
   "mimetype": "text/x-python",
   "name": "python",
   "nbconvert_exporter": "python",
   "pygments_lexer": "ipython3",
   "version": "3.6.9"
  },
  "vscode": {
   "interpreter": {
    "hash": "31f2aee4e71d21fbe5cf8b01ff0e069b9275f58929596ceb00d14d90e3e16cd6"
   }
  }
 },
 "nbformat": 4,
 "nbformat_minor": 5
}
