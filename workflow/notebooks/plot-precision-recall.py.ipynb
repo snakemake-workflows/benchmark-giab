{
 "cells": [
  {
   "cell_type": "code",
   "execution_count": 2,
   "id": "65f6d1f6",
   "metadata": {
    "tags": [
     "snakemake-job-properties"
    ]
   },
   "outputs": [],
   "source": [
    "\n",
    "######## snakemake preamble start (automatically inserted, do not edit) ########\n",
    "import sys; sys.path.extend(['/vol/tiny/home/koester/mambaforge/envs/snakemake/lib/python3.9/site-packages', '/vol/tiny/home/koester/scms/qc-benchmark-action/benchmarks/giab-na12878-exome/workflow/notebooks']); import pickle; snakemake = pickle.loads(b'\\x80\\x04\\x95\\x9d\\x04\\x00\\x00\\x00\\x00\\x00\\x00\\x8c\\x10snakemake.script\\x94\\x8c\\tSnakemake\\x94\\x93\\x94)\\x81\\x94}\\x94(\\x8c\\x05input\\x94\\x8c\\x0csnakemake.io\\x94\\x8c\\nInputFiles\\x94\\x93\\x94)\\x81\\x94\\x8c\\nreport.tsv\\x94a}\\x94(\\x8c\\x06_names\\x94}\\x94\\x8c\\x12_allowed_overrides\\x94]\\x94(\\x8c\\x05index\\x94\\x8c\\x04sort\\x94eh\\x10\\x8c\\tfunctools\\x94\\x8c\\x07partial\\x94\\x93\\x94h\\x06\\x8c\\x19Namedlist._used_attribute\\x94\\x93\\x94\\x85\\x94R\\x94(h\\x16)}\\x94\\x8c\\x05_name\\x94h\\x10sNt\\x94bh\\x11h\\x14h\\x16\\x85\\x94R\\x94(h\\x16)}\\x94h\\x1ah\\x11sNt\\x94bub\\x8c\\x06output\\x94h\\x06\\x8c\\x0bOutputFiles\\x94\\x93\\x94)\\x81\\x94\\x8c\\x0freport.plot.svg\\x94a}\\x94(h\\x0c}\\x94h\\x0e]\\x94(h\\x10h\\x11eh\\x10h\\x14h\\x16\\x85\\x94R\\x94(h\\x16)}\\x94h\\x1ah\\x10sNt\\x94bh\\x11h\\x14h\\x16\\x85\\x94R\\x94(h\\x16)}\\x94h\\x1ah\\x11sNt\\x94bub\\x8c\\x06params\\x94h\\x06\\x8c\\x06Params\\x94\\x93\\x94)\\x81\\x94}\\x94(h\\x0c}\\x94h\\x0e]\\x94(h\\x10h\\x11eh\\x10h\\x14h\\x16\\x85\\x94R\\x94(h\\x16)}\\x94h\\x1ah\\x10sNt\\x94bh\\x11h\\x14h\\x16\\x85\\x94R\\x94(h\\x16)}\\x94h\\x1ah\\x11sNt\\x94bub\\x8c\\twildcards\\x94h\\x06\\x8c\\tWildcards\\x94\\x93\\x94)\\x81\\x94}\\x94(h\\x0c}\\x94h\\x0e]\\x94(h\\x10h\\x11eh\\x10h\\x14h\\x16\\x85\\x94R\\x94(h\\x16)}\\x94h\\x1ah\\x10sNt\\x94bh\\x11h\\x14h\\x16\\x85\\x94R\\x94(h\\x16)}\\x94h\\x1ah\\x11sNt\\x94bub\\x8c\\x07threads\\x94K\\x01\\x8c\\tresources\\x94h\\x06\\x8c\\tResources\\x94\\x93\\x94)\\x81\\x94(K\\x01K\\x01\\x8c\\r/vol/tiny/tmp\\x94e}\\x94(h\\x0c}\\x94(\\x8c\\x06_cores\\x94K\\x00N\\x86\\x94\\x8c\\x06_nodes\\x94K\\x01N\\x86\\x94\\x8c\\x06tmpdir\\x94K\\x02N\\x86\\x94uh\\x0e]\\x94(h\\x10h\\x11eh\\x10h\\x14h\\x16\\x85\\x94R\\x94(h\\x16)}\\x94h\\x1ah\\x10sNt\\x94bh\\x11h\\x14h\\x16\\x85\\x94R\\x94(h\\x16)}\\x94h\\x1ah\\x11sNt\\x94bhVK\\x01hXK\\x01hZhSub\\x8c\\x03log\\x94h\\x06\\x8c\\x03Log\\x94\\x93\\x94)\\x81\\x94\\x8c\\x1elogs/plot-precision-recall.log\\x94a}\\x94(h\\x0c}\\x94h\\x0e]\\x94(h\\x10h\\x11eh\\x10h\\x14h\\x16\\x85\\x94R\\x94(h\\x16)}\\x94h\\x1ah\\x10sNt\\x94bh\\x11h\\x14h\\x16\\x85\\x94R\\x94(h\\x16)}\\x94h\\x1ah\\x11sNt\\x94bub\\x8c\\x06config\\x94}\\x94\\x8c\\x07results\\x94\\x8cn/vol/tiny/home/koester/scms/dna-seq-varlociraptor/.test/results/final-calls/NA12878.present.fdr-controlled.bcf\\x94s\\x8c\\x04rule\\x94\\x8c\\x15plot_precision_recall\\x94\\x8c\\x0fbench_iteration\\x94N\\x8c\\tscriptdir\\x94\\x8c`/vol/tiny/home/koester/scms/qc-benchmark-action/benchmarks/giab-na12878-exome/workflow/notebooks\\x94ub.'); from snakemake.logging import logger; logger.printshellcmds = False; import os; os.chdir(r'/vol/tiny/home/koester/scms/qc-benchmark-action/benchmark-data-whole-genome');\n",
    "######## snakemake preamble end #########\n"
   ]
  },
  {
   "cell_type": "code",
   "execution_count": 54,
   "id": "14c6e90b",
   "metadata": {},
   "outputs": [
    {
     "name": "stderr",
     "output_type": "stream",
     "text": [
      "/vol/tiny/tmp/ipykernel_23506/677199457.py:17: SettingWithCopyWarning: \n",
      "A value is trying to be set on a copy of a slice from a DataFrame.\n",
      "Try using .loc[row_indexer,col_indexer] = value instead\n",
      "\n",
      "See the caveats in the documentation: https://pandas.pydata.org/pandas-docs/stable/user_guide/indexing.html#returning-a-view-versus-a-copy\n",
      "  report_gt[\"correct genotype\"] = \"yes\"\n"
     ]
    },
    {
     "data": {
      "text/html": [
       "\n",
       "<div id=\"altair-viz-919fc05861d141f8a9c70bb3bb5e3ee0\"></div>\n",
       "<script type=\"text/javascript\">\n",
       "  (function(spec, embedOpt){\n",
       "    let outputDiv = document.currentScript.previousElementSibling;\n",
       "    if (outputDiv.id !== \"altair-viz-919fc05861d141f8a9c70bb3bb5e3ee0\") {\n",
       "      outputDiv = document.getElementById(\"altair-viz-919fc05861d141f8a9c70bb3bb5e3ee0\");\n",
       "    }\n",
       "    const paths = {\n",
       "      \"vega\": \"https://cdn.jsdelivr.net/npm//vega@5?noext\",\n",
       "      \"vega-lib\": \"https://cdn.jsdelivr.net/npm//vega-lib?noext\",\n",
       "      \"vega-lite\": \"https://cdn.jsdelivr.net/npm//vega-lite@4.8.1?noext\",\n",
       "      \"vega-embed\": \"https://cdn.jsdelivr.net/npm//vega-embed@6?noext\",\n",
       "    };\n",
       "\n",
       "    function loadScript(lib) {\n",
       "      return new Promise(function(resolve, reject) {\n",
       "        var s = document.createElement('script');\n",
       "        s.src = paths[lib];\n",
       "        s.async = true;\n",
       "        s.onload = () => resolve(paths[lib]);\n",
       "        s.onerror = () => reject(`Error loading script: ${paths[lib]}`);\n",
       "        document.getElementsByTagName(\"head\")[0].appendChild(s);\n",
       "      });\n",
       "    }\n",
       "\n",
       "    function showError(err) {\n",
       "      outputDiv.innerHTML = `<div class=\"error\" style=\"color:red;\">${err}</div>`;\n",
       "      throw err;\n",
       "    }\n",
       "\n",
       "    function displayChart(vegaEmbed) {\n",
       "      vegaEmbed(outputDiv, spec, embedOpt)\n",
       "        .catch(err => showError(`Javascript Error: ${err.message}<br>This usually means there's a typo in your chart specification. See the javascript console for the full traceback.`));\n",
       "    }\n",
       "\n",
       "    if(typeof define === \"function\" && define.amd) {\n",
       "      requirejs.config({paths});\n",
       "      require([\"vega-embed\"], displayChart, err => showError(`Error loading script: ${err.message}`));\n",
       "    } else if (typeof vegaEmbed === \"function\") {\n",
       "      displayChart(vegaEmbed);\n",
       "    } else {\n",
       "      loadScript(\"vega\")\n",
       "        .then(() => loadScript(\"vega-lite\"))\n",
       "        .then(() => loadScript(\"vega-embed\"))\n",
       "        .catch(showError)\n",
       "        .then(() => displayChart(vegaEmbed));\n",
       "    }\n",
       "  })({\"config\": {\"view\": {\"continuousWidth\": 400, \"continuousHeight\": 300}}, \"data\": {\"name\": \"data-e7b12c41b8c9d8ee0f7f24595065153e\"}, \"facet\": {\"column\": {\"type\": \"nominal\", \"field\": \"type\", \"sort\": [\"snvs\", \"indels\"], \"title\": null}, \"row\": {\"type\": \"nominal\", \"field\": \"metric\", \"title\": null}}, \"spec\": {\"layer\": [{\"mark\": \"bar\", \"encoding\": {\"color\": {\"type\": \"ordinal\", \"field\": \"correct genotype\", \"sort\": \"descending\"}, \"x\": {\"type\": \"quantitative\", \"field\": \"value\", \"title\": null}, \"y\": {\"type\": \"nominal\", \"field\": \"coverage\", \"sort\": [\"high\", \"medium\", \"low\"]}}, \"transform\": [{\"filter\": \"(datum['correct genotype'] === 'no')\"}]}, {\"mark\": \"bar\", \"encoding\": {\"color\": {\"type\": \"ordinal\", \"field\": \"correct genotype\", \"sort\": \"descending\"}, \"x\": {\"type\": \"quantitative\", \"field\": \"value\", \"title\": null}, \"y\": {\"type\": \"nominal\", \"field\": \"coverage\", \"sort\": [\"high\", \"medium\", \"low\"]}}, \"transform\": [{\"filter\": \"(datum['correct genotype'] === 'yes')\"}]}]}, \"$schema\": \"https://vega.github.io/schema/vega-lite/v4.8.1.json\", \"datasets\": {\"data-e7b12c41b8c9d8ee0f7f24595065153e\": [{\"coverage\": \"low\", \"type\": \"indels\", \"correct genotype\": \"no\", \"metric\": \"precision\", \"value\": 0.9587628865979382}, {\"coverage\": \"low\", \"type\": \"indels\", \"correct genotype\": \"no\", \"metric\": \"recall\", \"value\": 0.05942492012779553}, {\"coverage\": \"low\", \"type\": \"snvs\", \"correct genotype\": \"no\", \"metric\": \"precision\", \"value\": 0.985445205479452}, {\"coverage\": \"low\", \"type\": \"snvs\", \"correct genotype\": \"no\", \"metric\": \"recall\", \"value\": 0.1650179211469534}, {\"coverage\": \"medium\", \"type\": \"indels\", \"correct genotype\": \"no\", \"metric\": \"precision\", \"value\": 0.9338842975206612}, {\"coverage\": \"medium\", \"type\": \"indels\", \"correct genotype\": \"no\", \"metric\": \"recall\", \"value\": 0.5678391959798995}, {\"coverage\": \"medium\", \"type\": \"snvs\", \"correct genotype\": \"no\", \"metric\": \"precision\", \"value\": 0.9807238394964595}, {\"coverage\": \"medium\", \"type\": \"snvs\", \"correct genotype\": \"no\", \"metric\": \"recall\", \"value\": 0.8789516982019039}, {\"coverage\": \"high\", \"type\": \"indels\", \"correct genotype\": \"no\", \"metric\": \"precision\", \"value\": 0.9380530973451328}, {\"coverage\": \"high\", \"type\": \"indels\", \"correct genotype\": \"no\", \"metric\": \"recall\", \"value\": 0.7361111111111112}, {\"coverage\": \"high\", \"type\": \"snvs\", \"correct genotype\": \"no\", \"metric\": \"precision\", \"value\": 0.9891260571888845}, {\"coverage\": \"high\", \"type\": \"snvs\", \"correct genotype\": \"no\", \"metric\": \"recall\", \"value\": 0.9769291964996022}, {\"coverage\": \"low\", \"type\": \"indels\", \"correct genotype\": \"yes\", \"metric\": \"precision\", \"value\": 0.845361}, {\"coverage\": \"low\", \"type\": \"indels\", \"correct genotype\": \"yes\", \"metric\": \"recall\", \"value\": 0.053985}, {\"coverage\": \"low\", \"type\": \"snvs\", \"correct genotype\": \"yes\", \"metric\": \"precision\", \"value\": 0.912671}, {\"coverage\": \"low\", \"type\": \"snvs\", \"correct genotype\": \"yes\", \"metric\": \"recall\", \"value\": 0.154533}, {\"coverage\": \"medium\", \"type\": \"indels\", \"correct genotype\": \"yes\", \"metric\": \"precision\", \"value\": 0.8842979999999999}, {\"coverage\": \"medium\", \"type\": \"indels\", \"correct genotype\": \"yes\", \"metric\": \"recall\", \"value\": 0.552083}, {\"coverage\": \"medium\", \"type\": \"snvs\", \"correct genotype\": \"yes\", \"metric\": \"precision\", \"value\": 0.970889}, {\"coverage\": \"medium\", \"type\": \"snvs\", \"correct genotype\": \"yes\", \"metric\": \"recall\", \"value\": 0.877875}, {\"coverage\": \"high\", \"type\": \"indels\", \"correct genotype\": \"yes\", \"metric\": \"precision\", \"value\": 0.893805}, {\"coverage\": \"high\", \"type\": \"indels\", \"correct genotype\": \"yes\", \"metric\": \"recall\", \"value\": 0.728571}, {\"coverage\": \"high\", \"type\": \"snvs\", \"correct genotype\": \"yes\", \"metric\": \"precision\", \"value\": 0.986911}, {\"coverage\": \"high\", \"type\": \"snvs\", \"correct genotype\": \"yes\", \"metric\": \"recall\", \"value\": 0.976881}]}}, {\"mode\": \"vega-lite\"});\n",
       "</script>"
      ],
      "text/plain": [
       "alt.FacetChart(...)"
      ]
     },
     "execution_count": 54,
     "metadata": {},
     "output_type": "execute_result"
    }
   ],
   "source": [
    "from itertools import product\n",
    "import sys\n",
    "\n",
    "import pandas as pd\n",
    "import altair as alt\n",
    "from altair import datum\n",
    "\n",
    "sys.stderr = open(snakemake.log[0], \"w\")\n",
    "\n",
    "\n",
    "report = pd.read_csv(snakemake.input[0], sep=\"\\t\")\n",
    "columns = [\"coverage\", \"Type\", \"precision\", \"recall\", \"correct genotype\"]\n",
    "report = report.loc[report[\"Filter\"] == \"PASS\", ]\n",
    "report[\"Type\"] = report[\"Type\"].apply(lambda t: \"indels\" if t == \"INDEL\" else \"snvs\")\n",
    "report[\"coverage\"] = report[\"coverage\"].apply(lambda cov: snakemake.params.cov_labels[cov])\n",
    "\n",
    "report[\"tp_no_gt\"] = report[\"QUERY.TOTAL\"] - report[\"QUERY.FP\"] + report[\"FP.gt\"]\n",
    "report[\"t\"] = report[\"tp_no_gt\"] + report[\"TRUTH.FN\"]\n",
    "report[\"precision\"] = report[\"tp_no_gt\"] / report[\"QUERY.TOTAL\"]\n",
    "report[\"recall\"] = report[\"tp_no_gt\"] / (report[\"t\"])\n",
    "report[\"correct genotype\"] = \"no\"\n",
    "report[\"precision_numbers\"] = report.apply(lambda row: f\"{row['tp_no_gt']}/{row['QUERY.TOTAL']}\", axis=1)\n",
    "report[\"recall_numbers\"] = report.apply(lambda row: f\"{row['tp_no_gt']}/{row['t']}\", axis=1)\n",
    "\n",
    "report_gt = report[[\"coverage\", \"Type\", \"METRIC.Precision\", \"METRIC.Recall\"]]\n",
    "report_gt[\"correct genotype\"] = \"yes\"\n",
    "report_gt.columns = columns\n",
    "\n",
    "report_final = pd.concat([report[columns], report_gt])\n",
    "report_final.columns = report_final.columns.str.lower()\n",
    "\n",
    "report_final = report_final.set_index([\"coverage\", \"type\", \"correct genotype\"]).stack().reset_index()\n",
    "report_final.columns = [\"coverage\", \"type\", \"correct genotype\", \"metric\", \"value\"]\n",
    "\n",
    "coverages = report_final[\"coverage\"].unique()\n",
    "vartypes = report_final[\"type\"].unique()\n",
    "\n",
    "report_final.set_index([\"coverage\", \"type\", \"metric\"], inplace=True)\n",
    "report_final[\"numbers\"] = None\n",
    "for cov, vartype in product(coverages, vartypes):\n",
    "    report_ = report.loc[(report[\"coverage\"] == cov) & (report[\"Type\"] == vartype)].iloc[0]\n",
    "    report_final.loc[(cov, vartype, \"precision\"), \"numbers\"] = f\"{report_.at['tp_no_gt']}/{report_.at['QUERY.TOTAL']}\"\n",
    "    report_final.loc[(cov, vartype, \"recall\"), \"numbers\"] = f\"{report_.at['tp_no_gt']}/{report_.at['t']}\"\n",
    "report_final.reset_index(inplace=True)\n",
    "\n",
    "def plot(correct_genotype, print_numbers=True):\n",
    "    chart = alt.Chart().mark_bar().encode(\n",
    "        alt.X(\"value\", title=None),\n",
    "        alt.Y(\"coverage\", sort=[\"high\", \"medium\", \"low\"]),\n",
    "        color=alt.Color(\"correct genotype\", type=\"ordinal\", sort=\"descending\"),\n",
    "    ).transform_filter(\n",
    "        datum[\"correct genotype\"] == correct_genotype\n",
    "    )\n",
    "\n",
    "    if print_numbers:\n",
    "        return chart + alt.Chart().mark_text(\n",
    "            color=\"black\",\n",
    "            align=\"right\",\n",
    "            baseline=\"middle\",\n",
    "            dx=2,\n",
    "        ).encode(\n",
    "            alt.X(\"value\", title=None),\n",
    "            alt.Y(\"coverage\", sort=[\"high\", \"medium\", \"low\"]),\n",
    "            text=\"numbers\"\n",
    "        )\n",
    "    else:\n",
    "        return chart\n",
    "\n",
    "chart = alt.layer(plot(\"no\"), plot(\"yes\"), data=report_final).facet(\n",
    "    row=alt.Row(\"metric\", title=None),\n",
    "    column=alt.Column(\"type\", title=None, sort=[\"snvs\", \"indels\"]),\n",
    ")\n",
    "\n",
    "chart\n"
   ]
  },
  {
   "cell_type": "code",
   "execution_count": 55,
   "id": "74d8b3b2",
   "metadata": {},
   "outputs": [],
   "source": [
    "chart.save(snakemake.output[0])"
   ]
  }
 ],
 "metadata": {
  "interpreter": {
   "hash": "06b1d36dbae85dad427b9b2203450fa764fb6ca546c429dd3eec76ac0b1f235d"
  },
  "kernelspec": {
   "display_name": "Python 3.10.0 64-bit (conda)",
   "language": "python",
   "name": "python3"
  },
  "language_info": {
   "codemirror_mode": {
    "name": "ipython",
    "version": 3
   },
   "file_extension": ".py",
   "mimetype": "text/x-python",
   "name": "python",
   "nbconvert_exporter": "python",
   "pygments_lexer": "ipython3",
   "version": "3.10.0"
  }
 },
 "nbformat": 4,
 "nbformat_minor": 5
}
